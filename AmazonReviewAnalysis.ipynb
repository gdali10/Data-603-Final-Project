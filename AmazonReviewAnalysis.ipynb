{
 "cells": [
  {
   "cell_type": "code",
   "execution_count": 0,
   "metadata": {
    "application/vnd.databricks.v1+cell": {
     "cellMetadata": {
      "byteLimit": 2048000,
      "rowLimit": 10000
     },
     "inputWidgets": {},
     "nuid": "06010ab4-43cc-4736-b412-c367380216a6",
     "showTitle": false,
     "tableResultSettingsMap": {},
     "title": ""
    }
   },
   "outputs": [
    {
     "output_type": "stream",
     "name": "stderr",
     "output_type": "stream",
     "text": [
      "/databricks/python_shell/dbruntime/huggingface_patches/datasets.py:45: UserWarning: The cache_dir for this dataset is /root/.cache, which is not a persistent path.Therefore, if/when the cluster restarts, the downloaded dataset will be lost.The persistent storage options for this workspace/cluster config are: [DBFS, UC Volumes].Please update either `cache_dir` or the environment variable `HF_DATASETS_CACHE`to be under one of the following root directories: ['/dbfs/', '/Volumes/']\n  warnings.warn(warning_message)\n"
     ]
    },
    {
     "output_type": "display_data",
     "data": {
      "application/vnd.jupyter.widget-view+json": {
       "model_id": "7858fb476eb7478998de13910977e634",
       "version_major": 2,
       "version_minor": 0
      },
      "text/plain": [
       "README.md:   0%|          | 0.00/19.7k [00:00<?, ?B/s]"
      ]
     },
     "metadata": {},
     "output_type": "display_data"
    },
    {
     "output_type": "display_data",
     "data": {
      "application/vnd.jupyter.widget-view+json": {
       "model_id": "2e4a568bf68147ef82988f01bdcf6945",
       "version_major": 2,
       "version_minor": 0
      },
      "text/plain": [
       "Amazon-Reviews-2023.py:   0%|          | 0.00/39.6k [00:00<?, ?B/s]"
      ]
     },
     "metadata": {},
     "output_type": "display_data"
    },
    {
     "output_type": "stream",
     "name": "stderr",
     "output_type": "stream",
     "text": [
      "/databricks/python_shell/dbruntime/huggingface_patches/datasets.py:14: UserWarning: During large dataset downloads, there could be multiple progress bar widgets that can cause performance issues for your notebook or browser. To avoid these issues, use `datasets.utils.logging.disable_progress_bar()` to turn off the progress bars.\n  warnings.warn(\n"
     ]
    },
    {
     "output_type": "display_data",
     "data": {
      "application/vnd.jupyter.widget-view+json": {
       "model_id": "3d20533956f249aab5f82e0ce28b2b8b",
       "version_major": 2,
       "version_minor": 0
      },
      "text/plain": [
       "All_Beauty.jsonl:   0%|          | 0.00/327M [00:00<?, ?B/s]"
      ]
     },
     "metadata": {},
     "output_type": "display_data"
    },
    {
     "output_type": "display_data",
     "data": {
      "application/vnd.jupyter.widget-view+json": {
       "model_id": "17aa8e9957e9445da9d6d43595504c6f",
       "version_major": 2,
       "version_minor": 0
      },
      "text/plain": [
       "Generating full split: 0 examples [00:00, ? examples/s]"
      ]
     },
     "metadata": {},
     "output_type": "display_data"
    },
    {
     "output_type": "stream",
     "name": "stdout",
     "output_type": "stream",
     "text": [
      "{'rating': 5.0, 'title': 'Such a lovely scent but not overpowering.', 'text': \"This spray is really nice. It smells really good, goes on really fine, and does the trick. I will say it feels like you need a lot of it though to get the texture I want. I have a lot of hair, medium thickness. I am comparing to other brands with yucky chemicals so I'm gonna stick with this. Try it!\", 'images': [], 'asin': 'B00YQ6X8EO', 'parent_asin': 'B00YQ6X8EO', 'user_id': 'AGKHLEW2SOWHNMFQIJGBECAF7INQ', 'timestamp': 1588687728923, 'helpful_vote': 0, 'verified_purchase': True}\n"
     ]
    },
    {
     "output_type": "stream",
     "name": "stderr",
     "output_type": "stream",
     "text": [
      "/databricks/python_shell/dbruntime/huggingface_patches/datasets.py:45: UserWarning: The cache_dir for this dataset is /root/.cache, which is not a persistent path.Therefore, if/when the cluster restarts, the downloaded dataset will be lost.The persistent storage options for this workspace/cluster config are: [DBFS, UC Volumes].Please update either `cache_dir` or the environment variable `HF_DATASETS_CACHE`to be under one of the following root directories: ['/dbfs/', '/Volumes/']\n  warnings.warn(warning_message)\n/databricks/python_shell/dbruntime/huggingface_patches/datasets.py:14: UserWarning: During large dataset downloads, there could be multiple progress bar widgets that can cause performance issues for your notebook or browser. To avoid these issues, use `datasets.utils.logging.disable_progress_bar()` to turn off the progress bars.\n  warnings.warn(\n"
     ]
    },
    {
     "output_type": "display_data",
     "data": {
      "application/vnd.jupyter.widget-view+json": {
       "model_id": "8efe93dc53b144b498d2b44c925ae4ff",
       "version_major": 2,
       "version_minor": 0
      },
      "text/plain": [
       "meta_All_Beauty.jsonl:   0%|          | 0.00/213M [00:00<?, ?B/s]"
      ]
     },
     "metadata": {},
     "output_type": "display_data"
    },
    {
     "output_type": "display_data",
     "data": {
      "application/vnd.jupyter.widget-view+json": {
       "model_id": "d265e9601b4c4b22b51cb879d9f4be6d",
       "version_major": 2,
       "version_minor": 0
      },
      "text/plain": [
       "Generating full split: 0 examples [00:00, ? examples/s]"
      ]
     },
     "metadata": {},
     "output_type": "display_data"
    },
    {
     "output_type": "stream",
     "name": "stdout",
     "output_type": "stream",
     "text": [
      "{'main_category': 'All Beauty', 'title': 'Howard LC0008 Leather Conditioner, 8-Ounce (4-Pack)', 'average_rating': 4.8, 'rating_number': 10, 'features': [], 'description': [], 'price': 'None', 'images': {'hi_res': [None, 'https://m.media-amazon.com/images/I/71i77AuI9xL._SL1500_.jpg'], 'large': ['https://m.media-amazon.com/images/I/41qfjSfqNyL.jpg', 'https://m.media-amazon.com/images/I/41w2yznfuZL.jpg'], 'thumb': ['https://m.media-amazon.com/images/I/41qfjSfqNyL._SS40_.jpg', 'https://m.media-amazon.com/images/I/41w2yznfuZL._SS40_.jpg'], 'variant': ['MAIN', 'PT01']}, 'videos': {'title': [], 'url': [], 'user_id': []}, 'store': 'Howard Products', 'categories': [], 'details': '{\"Package Dimensions\": \"7.1 x 5.5 x 3 inches; 2.38 Pounds\", \"UPC\": \"617390882781\"}', 'parent_asin': 'B01CUPMQZE', 'bought_together': None, 'subtitle': None, 'author': None}\n"
     ]
    }
   ],
   "source": [
    "# Loading Amazon Reviews Data\n",
    "from datasets import load_dataset\n",
    "\n",
    "# Load user reviews data\n",
    "reviews_data = load_dataset(\"McAuley-Lab/Amazon-Reviews-2023\", \"raw_review_All_Beauty\", trust_remote_code=True)\n",
    "print(reviews_data[\"full\"][0])  # Printing the first review\n",
    "\n",
    "# Load product metadata\n",
    "metadata = load_dataset(\"McAuley-Lab/Amazon-Reviews-2023\", \"raw_meta_All_Beauty\", split=\"full\", trust_remote_code=True)\n",
    "print(metadata[0])  # Printing the first metadata entry\n"
   ]
  },
  {
   "cell_type": "code",
   "execution_count": 0,
   "metadata": {
    "application/vnd.databricks.v1+cell": {
     "cellMetadata": {
      "byteLimit": 2048000,
      "rowLimit": 10000
     },
     "inputWidgets": {},
     "nuid": "bdfcfe2b-1a5a-49cd-b046-fb1fc5bcd25b",
     "showTitle": false,
     "tableResultSettingsMap": {},
     "title": ""
    }
   },
   "outputs": [
    {
     "output_type": "stream",
     "name": "stdout",
     "output_type": "stream",
     "text": [
      "root\n |-- rating: double (nullable = true)\n |-- title: string (nullable = true)\n |-- text: string (nullable = true)\n |-- images: array (nullable = true)\n |    |-- element: struct (containsNull = true)\n |    |    |-- attachment_type: string (nullable = true)\n |    |    |-- large_image_url: string (nullable = true)\n |    |    |-- medium_image_url: string (nullable = true)\n |    |    |-- small_image_url: string (nullable = true)\n |-- asin: string (nullable = true)\n |-- parent_asin: string (nullable = true)\n |-- user_id: string (nullable = true)\n |-- timestamp: long (nullable = true)\n |-- helpful_vote: long (nullable = true)\n |-- verified_purchase: boolean (nullable = true)\n\nroot\n |-- main_category: string (nullable = true)\n |-- title: string (nullable = true)\n |-- average_rating: double (nullable = true)\n |-- rating_number: long (nullable = true)\n |-- features: array (nullable = true)\n |    |-- element: string (containsNull = true)\n |-- description: array (nullable = true)\n |    |-- element: string (containsNull = true)\n |-- price: string (nullable = true)\n |-- images: struct (nullable = true)\n |    |-- hi_res: array (nullable = true)\n |    |    |-- element: string (containsNull = true)\n |    |-- large: array (nullable = true)\n |    |    |-- element: string (containsNull = true)\n |    |-- thumb: array (nullable = true)\n |    |    |-- element: string (containsNull = true)\n |    |-- variant: array (nullable = true)\n |    |    |-- element: string (containsNull = true)\n |-- videos: struct (nullable = true)\n |    |-- title: array (nullable = true)\n |    |    |-- element: string (containsNull = true)\n |    |-- url: array (nullable = true)\n |    |    |-- element: string (containsNull = true)\n |    |-- user_id: array (nullable = true)\n |    |    |-- element: string (containsNull = true)\n |-- store: string (nullable = true)\n |-- categories: array (nullable = true)\n |    |-- element: void (containsNull = true)\n |-- details: string (nullable = true)\n |-- parent_asin: string (nullable = true)\n |-- bought_together: void (nullable = true)\n |-- subtitle: void (nullable = true)\n |-- author: void (nullable = true)\n\n"
     ]
    }
   ],
   "source": [
    "# Converting Data to Spark Dataframes\n",
    "import pandas as pd\n",
    "\n",
    "# Converting to Pandas DataFrame\n",
    "reviews_df = pd.DataFrame(reviews_data[\"full\"])\n",
    "metadata_df = pd.DataFrame(metadata)\n",
    "\n",
    "# Converting Pandas DataFrame to Spark DataFrame\n",
    "reviews_spark_df = spark.createDataFrame(reviews_df)\n",
    "metadata_spark_df = spark.createDataFrame(metadata_df)\n",
    "\n",
    "# Displays schemas\n",
    "reviews_spark_df.printSchema()\n",
    "metadata_spark_df.printSchema()\n"
   ]
  },
  {
   "cell_type": "code",
   "execution_count": 0,
   "metadata": {
    "application/vnd.databricks.v1+cell": {
     "cellMetadata": {
      "byteLimit": 2048000,
      "rowLimit": 10000
     },
     "inputWidgets": {},
     "nuid": "eccd99af-acee-407d-9657-21d180f83141",
     "showTitle": false,
     "tableResultSettingsMap": {},
     "title": ""
    }
   },
   "outputs": [
    {
     "output_type": "stream",
     "name": "stdout",
     "output_type": "stream",
     "text": [
      "+------+--------------------+--------------------+------+----------+-----------+--------------------+-------------+------------+-----------------+\n|rating|               title|                text|images|      asin|parent_asin|             user_id|    timestamp|helpful_vote|verified_purchase|\n+------+--------------------+--------------------+------+----------+-----------+--------------------+-------------+------------+-----------------+\n|   5.0|Such a lovely sce...|This spray is rea...|    []|B00YQ6X8EO| B00YQ6X8EO|AGKHLEW2SOWHNMFQI...|1588687728923|           0|             true|\n|   4.0|Works great but s...|This product does...|    []|B081TJ8YS3| B081TJ8YS3|AGKHLEW2SOWHNMFQI...|1588615855070|           1|             true|\n|   5.0|                Yes!|Smells good, feel...|    []|B07PNNCSP9| B097R46CSY|AE74DYR3QUGVPZJ3P...|1589665266052|           2|             true|\n|   1.0|   Synthetic feeling|      Felt synthetic|    []|B09JS339BZ| B09JS339BZ|AFQLNQNQYFWQZPJQZ...|1643393630220|           0|             true|\n|   5.0|                  A+|             Love it|    []|B08BZ63GMJ| B08BZ63GMJ|AFQLNQNQYFWQZPJQZ...|1609322563534|           0|             true|\n+------+--------------------+--------------------+------+----------+-----------+--------------------+-------------+------------+-----------------+\nonly showing top 5 rows\n\n+------+-----+----+------+----+-----------+-------+---------+------------+-----------------+\n|rating|title|text|images|asin|parent_asin|user_id|timestamp|helpful_vote|verified_purchase|\n+------+-----+----+------+----+-----------+-------+---------+------------+-----------------+\n|     0|    0|   0|     0|   0|          0|      0|        0|           0|                0|\n+------+-----+----+------+----+-----------+-------+---------+------------+-----------------+\n\n"
     ]
    }
   ],
   "source": [
    "# Data Exploration\n",
    "# Shows data sample\n",
    "reviews_spark_df.show(5)\n",
    "\n",
    "# Checks for missing values\n",
    "from pyspark.sql.functions import col, when, count\n",
    "\n",
    "reviews_spark_df.select([count(when(col(c).isNull(), c)).alias(c) for c in reviews_spark_df.columns]).show()\n"
   ]
  },
  {
   "cell_type": "code",
   "execution_count": 0,
   "metadata": {
    "application/vnd.databricks.v1+cell": {
     "cellMetadata": {
      "byteLimit": 2048000,
      "rowLimit": 10000
     },
     "inputWidgets": {},
     "nuid": "b46dc598-da5e-40dd-b12d-f7371d87059f",
     "showTitle": false,
     "tableResultSettingsMap": {},
     "title": ""
    }
   },
   "outputs": [
    {
     "output_type": "stream",
     "name": "stdout",
     "output_type": "stream",
     "text": [
      "+------+--------------------+--------------------+------+----------+-----------+--------------------+-------------+------------+-----------------+--------------------+\n|rating|               title|                text|images|      asin|parent_asin|             user_id|    timestamp|helpful_vote|verified_purchase|        cleaned_text|\n+------+--------------------+--------------------+------+----------+-----------+--------------------+-------------+------------+-----------------+--------------------+\n|   5.0|Such a lovely sce...|This spray is rea...|    []|B00YQ6X8EO| B00YQ6X8EO|AGKHLEW2SOWHNMFQI...|1588687728923|           0|             true|this spray is rea...|\n|   4.0|Works great but s...|This product does...|    []|B081TJ8YS3| B081TJ8YS3|AGKHLEW2SOWHNMFQI...|1588615855070|           1|             true|this product does...|\n|   5.0|                Yes!|Smells good, feel...|    []|B07PNNCSP9| B097R46CSY|AE74DYR3QUGVPZJ3P...|1589665266052|           2|             true|smells good feels...|\n|   1.0|   Synthetic feeling|      Felt synthetic|    []|B09JS339BZ| B09JS339BZ|AFQLNQNQYFWQZPJQZ...|1643393630220|           0|             true|      felt synthetic|\n|   5.0|                  A+|             Love it|    []|B08BZ63GMJ| B08BZ63GMJ|AFQLNQNQYFWQZPJQZ...|1609322563534|           0|             true|             love it|\n+------+--------------------+--------------------+------+----------+-----------+--------------------+-------------+------------+-----------------+--------------------+\nonly showing top 5 rows\n\n"
     ]
    }
   ],
   "source": [
    "# Data Cleaning\n",
    "from pyspark.sql.functions import lower, regexp_replace, col\n",
    "\n",
    "# Clean review text\n",
    "reviews_cleaned = reviews_spark_df.withColumn(\n",
    "    \"cleaned_text\",\n",
    "    lower(regexp_replace(col(\"text\"), \"[^a-zA-Z0-9\\s]\", \"\"))  # Replace \"reviewText\" with \"text\"\n",
    ")\n",
    "reviews_cleaned.show(5)\n",
    "\n"
   ]
  },
  {
   "cell_type": "code",
   "execution_count": 0,
   "metadata": {
    "application/vnd.databricks.v1+cell": {
     "cellMetadata": {
      "byteLimit": 2048000,
      "rowLimit": 10000
     },
     "inputWidgets": {},
     "nuid": "b0b5e44e-882f-4489-83da-864a6d8369c9",
     "showTitle": false,
     "tableResultSettingsMap": {},
     "title": ""
    }
   },
   "outputs": [
    {
     "output_type": "stream",
     "name": "stdout",
     "output_type": "stream",
     "text": [
      "+------+--------------------+--------------------+------+----------+-----------+--------------------+-------------+------------+-----------------+--------------------+-------------+--------------------+--------------+-------------+--------+-----------+-----+--------------------+------------+--------------------+----------+--------------------+-----------+---------------+--------+------+\n|rating|               title|                text|images|      asin|parent_asin|             user_id|    timestamp|helpful_vote|verified_purchase|        cleaned_text|main_category|               title|average_rating|rating_number|features|description|price|              images|      videos|               store|categories|             details|parent_asin|bought_together|subtitle|author|\n+------+--------------------+--------------------+------+----------+-----------+--------------------+-------------+------------+-----------------+--------------------+-------------+--------------------+--------------+-------------+--------+-----------+-----+--------------------+------------+--------------------+----------+--------------------+-----------+---------------+--------+------+\n|   5.0|          Five Stars|               great|    []|0005946468| 0005946468|AHGFW5ZCXRC7VSYEL...|1517547241775|           0|             true|               great|   All Beauty|Patanjali Moistur...|           5.0|            2|      []|         []| None|{[NULL], [https:/...|{[], [], []}|           patanjali|        []|{\"Brand\": \"Patanj...| 0005946468|           NULL|    NULL|  NULL|\n|   5.0|    Product delivers|Makes my hair loo...|    []|0124784577| 0124784577|AFLPLWQHPXZTTNKJZ...|1561418999244|           1|             true|makes my hair loo...|   All Beauty|WOW Organics Appl...|           3.8|           15|      []|         []| None|{[https://m.media...|{[], [], []}|WOW Organics Appl...|        []|{\"Brand\": \"WOW Or...| 0124784577|           NULL|    NULL|  NULL|\n|   5.0|Perfectly and all...|I exercise a lot ...|    []|0124784577| 0124784577|AG4KCF5R2ZAX2NS2L...|1567301034115|           0|             true|i exercise a lot ...|   All Beauty|WOW Organics Appl...|           3.8|           15|      []|         []| None|{[https://m.media...|{[], [], []}|WOW Organics Appl...|        []|{\"Brand\": \"WOW Or...| 0124784577|           NULL|    NULL|  NULL|\n|   3.0|Que cumplió con m...|La manera de entr...|    []|0124784577| 0124784577|AE3XYIWPBH5TAMGMS...|1568041169877|           0|             true|la manera de entr...|   All Beauty|WOW Organics Appl...|           3.8|           15|      []|         []| None|{[https://m.media...|{[], [], []}|WOW Organics Appl...|        []|{\"Brand\": \"WOW Or...| 0124784577|           NULL|    NULL|  NULL|\n|   5.0|    Amazing VBS kit!|We just completed...|    []|0764490117| 0764490117|AGX3Q7SMQTIDCD2AD...|1371848850000|           2|            false|we just completed...|   All Beauty|Kingdom Rock Star...|           5.0|            2|      []|         []| None|{[NULL], [https:/...|{[], [], []}|                NULL|        []|{\"Package Dimensi...| 0764490117|           NULL|    NULL|  NULL|\n+------+--------------------+--------------------+------+----------+-----------+--------------------+-------------+------------+-----------------+--------------------+-------------+--------------------+--------------+-------------+--------+-----------+-----+--------------------+------------+--------------------+----------+--------------------+-----------+---------------+--------+------+\nonly showing top 5 rows\n\n"
     ]
    }
   ],
   "source": [
    "# Alligning Reviews with Metadata\n",
    "# Merge the reviews and metadata datasets using the ASIN (product ID) column to link reviews to product information\n",
    "aligned_data = reviews_cleaned.join(metadata_spark_df, reviews_cleaned[\"asin\"] == metadata_spark_df[\"parent_asin\"], \"inner\")\n",
    "aligned_data.show(5)\n"
   ]
  },
  {
   "cell_type": "code",
   "execution_count": 0,
   "metadata": {
    "application/vnd.databricks.v1+cell": {
     "cellMetadata": {
      "byteLimit": 2048000,
      "rowLimit": 10000
     },
     "inputWidgets": {},
     "nuid": "7303190a-ce44-42c6-81ab-65a4490b72aa",
     "showTitle": false,
     "tableResultSettingsMap": {},
     "title": ""
    }
   },
   "outputs": [
    {
     "output_type": "stream",
     "name": "stdout",
     "output_type": "stream",
     "text": [
      "+--------------------+\n|     filtered_tokens|\n+--------------------+\n|[spray, really, n...|\n|[product, need, w...|\n|   [felt, synthetic]|\n|              [love]|\n|[polish, quiet, t...|\n+--------------------+\nonly showing top 5 rows\n\n"
     ]
    }
   ],
   "source": [
    "# Tokenization and Stop Word Removal\n",
    "# Using Spark MLlib to tokenize the text and remove common stop words\n",
    "\n",
    "from pyspark.ml.feature import Tokenizer, StopWordsRemover\n",
    "\n",
    "# Tokenize the cleaned text\n",
    "tokenizer = Tokenizer(inputCol=\"cleaned_text\", outputCol=\"tokens\")\n",
    "tokenized_data = tokenizer.transform(aligned_data)\n",
    "\n",
    "# Remove stop words\n",
    "remover = StopWordsRemover(inputCol=\"tokens\", outputCol=\"filtered_tokens\")\n",
    "final_data = remover.transform(tokenized_data)\n",
    "final_data.select(\"filtered_tokens\").show(5)\n"
   ]
  },
  {
   "cell_type": "code",
   "execution_count": 0,
   "metadata": {
    "application/vnd.databricks.v1+cell": {
     "cellMetadata": {
      "byteLimit": 2048000,
      "rowLimit": 10000
     },
     "inputWidgets": {},
     "nuid": "5670a737-60b1-451f-b8dd-a0f835502e90",
     "showTitle": false,
     "tableResultSettingsMap": {},
     "title": ""
    }
   },
   "outputs": [
    {
     "output_type": "stream",
     "name": "stdout",
     "output_type": "stream",
     "text": [
      "+------+--------+\n|rating|polarity|\n+------+--------+\n|   5.0|       1|\n|   4.0|       1|\n|   1.0|       0|\n|   5.0|       1|\n|   4.0|       1|\n|   5.0|       1|\n|   5.0|       1|\n|   5.0|       1|\n|   5.0|       1|\n|   5.0|       1|\n+------+--------+\nonly showing top 10 rows\n\n"
     ]
    }
   ],
   "source": [
    "from pyspark.sql.functions import when\n",
    "\n",
    "# Map ratings to binary sentiment (polarity)\n",
    "tfidf_data = tfidf_data.withColumn(\n",
    "    \"polarity\",\n",
    "    when(col(\"rating\") >= 4, 1).when(col(\"rating\") <= 2, 0).otherwise(None)  # 1 for positive, 0 for negative\n",
    ")\n",
    "\n",
    "# Drop rows with neutral ratings (if desired)\n",
    "tfidf_data = tfidf_data.filter(col(\"polarity\").isNotNull())\n",
    "\n",
    "# Verify the polarity column\n",
    "tfidf_data.select(\"rating\", \"polarity\").show(10)\n"
   ]
  },
  {
   "cell_type": "code",
   "execution_count": 0,
   "metadata": {
    "application/vnd.databricks.v1+cell": {
     "cellMetadata": {
      "byteLimit": 2048000,
      "rowLimit": 10000
     },
     "inputWidgets": {},
     "nuid": "72017141-4991-43a7-8c77-81a5f6e38e23",
     "showTitle": false,
     "tableResultSettingsMap": {},
     "title": ""
    }
   },
   "outputs": [
    {
     "output_type": "stream",
     "name": "stdout",
     "output_type": "stream",
     "text": [
      "Model Accuracy: 0.9056183973640409\n"
     ]
    }
   ],
   "source": [
    "from pyspark.ml.classification import LogisticRegression\n",
    "from pyspark.ml.evaluation import MulticlassClassificationEvaluator\n",
    "\n",
    "# Train-test split\n",
    "(training_data, test_data) = tfidf_data.randomSplit([0.8, 0.2])\n",
    "\n",
    "# Logistic Regression\n",
    "lr = LogisticRegression(featuresCol=\"tfidf_features\", labelCol=\"polarity\")\n",
    "lr_model = lr.fit(training_data)\n",
    "\n",
    "# Evaluate Model\n",
    "predictions = lr_model.transform(test_data)\n",
    "evaluator = MulticlassClassificationEvaluator(labelCol=\"polarity\", predictionCol=\"prediction\", metricName=\"accuracy\")\n",
    "accuracy = evaluator.evaluate(predictions)\n",
    "print(f\"Model Accuracy: {accuracy}\")\n"
   ]
  },
  {
   "cell_type": "code",
   "execution_count": 0,
   "metadata": {
    "application/vnd.databricks.v1+cell": {
     "cellMetadata": {
      "byteLimit": 2048000,
      "rowLimit": 10000
     },
     "inputWidgets": {},
     "nuid": "bc8d8a7f-00ca-40e7-9660-694a4d9c58f7",
     "showTitle": false,
     "tableResultSettingsMap": {},
     "title": ""
    }
   },
   "outputs": [
    {
     "output_type": "stream",
     "name": "stdout",
     "output_type": "stream",
     "text": [
      "+------+--------+----------+--------------------+\n|rating|polarity|prediction|         probability|\n+------+--------+----------+--------------------+\n|   1.0|       0|       1.0|[0.46213456752878...|\n|   1.0|       0|       0.0|[0.99999958647872...|\n|   1.0|       0|       0.0|[0.99838759547934...|\n|   1.0|       0|       0.0|[0.62083503778393...|\n|   1.0|       0|       0.0|[0.99998796810872...|\n+------+--------+----------+--------------------+\nonly showing top 5 rows\n\n"
     ]
    }
   ],
   "source": [
    "# Display a sample of predictions\n",
    "predictions.select(\"rating\", \"polarity\", \"prediction\", \"probability\").show(5)\n"
   ]
  },
  {
   "cell_type": "code",
   "execution_count": 0,
   "metadata": {
    "application/vnd.databricks.v1+cell": {
     "cellMetadata": {
      "byteLimit": 2048000,
      "rowLimit": 10000
     },
     "inputWidgets": {},
     "nuid": "062a611c-53a2-4bd1-8402-7fa442e94937",
     "showTitle": false,
     "tableResultSettingsMap": {},
     "title": ""
    }
   },
   "outputs": [
    {
     "output_type": "stream",
     "name": "stdout",
     "output_type": "stream",
     "text": [
      "['rating', 'title', 'text', 'images', 'asin', 'parent_asin', 'user_id', 'timestamp', 'helpful_vote', 'verified_purchase', 'cleaned_text', 'main_category', 'title', 'average_rating', 'rating_number', 'features', 'description', 'price', 'images', 'videos', 'store', 'categories', 'details', 'parent_asin', 'bought_together', 'subtitle', 'author', 'tokens', 'filtered_tokens', 'raw_features', 'tfidf_features', 'polarity']\n"
     ]
    }
   ],
   "source": [
    "print(training_data.columns)\n"
   ]
  },
  {
   "cell_type": "code",
   "execution_count": 0,
   "metadata": {
    "application/vnd.databricks.v1+cell": {
     "cellMetadata": {
      "byteLimit": 2048000,
      "rowLimit": 10000
     },
     "inputWidgets": {},
     "nuid": "b560480c-d493-4a92-88e8-2e24f0dbecc3",
     "showTitle": false,
     "tableResultSettingsMap": {},
     "title": ""
    }
   },
   "outputs": [
    {
     "output_type": "stream",
     "name": "stdout",
     "output_type": "stream",
     "text": [
      "+--------------------+---------------+----------+------------+\n|             user_id|user_id_numeric|      asin|asin_numeric|\n+--------------------+---------------+----------+------------+\n|AHHSVWZYRMXDXFEB6...|       376362.0|B07CZ5XJT8|      7671.0|\n|AFHB6ANU67B6ELEDN...|       170119.0|B09LH6BDLR|      5510.0|\n|AHN5FZLRA4UAYEHWT...|        23591.0|B07CXTNVRJ|     22629.0|\n|AHN5FZLRA4UAYEHWT...|        23591.0|B07CXTNVRJ|     22629.0|\n|AF7BEQFILV6WB7QYF...|       144430.0|B08WJPNZPQ|        74.0|\n+--------------------+---------------+----------+------------+\nonly showing top 5 rows\n\n"
     ]
    }
   ],
   "source": [
    "from pyspark.ml.feature import StringIndexer\n",
    "\n",
    "# Index user_id\n",
    "user_indexer = StringIndexer(inputCol=\"user_id\", outputCol=\"user_id_numeric\")\n",
    "training_data = user_indexer.fit(training_data).transform(training_data)\n",
    "\n",
    "# Index asin\n",
    "item_indexer = StringIndexer(inputCol=\"asin\", outputCol=\"asin_numeric\")\n",
    "training_data = item_indexer.fit(training_data).transform(training_data)\n",
    "\n",
    "# Verify the transformation\n",
    "training_data.select(\"user_id\", \"user_id_numeric\", \"asin\", \"asin_numeric\").show(5)\n"
   ]
  },
  {
   "cell_type": "code",
   "execution_count": 0,
   "metadata": {
    "application/vnd.databricks.v1+cell": {
     "cellMetadata": {
      "byteLimit": 2048000,
      "rowLimit": 10000
     },
     "inputWidgets": {},
     "nuid": "ab69cf4e-65df-4273-9af0-cab75f7c486d",
     "showTitle": false,
     "tableResultSettingsMap": {},
     "title": ""
    }
   },
   "outputs": [
    {
     "output_type": "stream",
     "name": "stdout",
     "output_type": "stream",
     "text": [
      "+---------------+--------------------+\n|user_id_numeric|     recommendations|\n+---------------+--------------------+\n|             26|[{48169, 6.348346...|\n|             27|[{20991, 6.522863...|\n|             28|[{12755, 5.985104...|\n|             31|[{25385, 6.845991...|\n|             34|[{48583, 6.249381...|\n+---------------+--------------------+\nonly showing top 5 rows\n\n"
     ]
    }
   ],
   "source": [
    "from pyspark.ml.recommendation import ALS\n",
    "\n",
    "# Build ALS Model\n",
    "als = ALS(\n",
    "    userCol=\"user_id_numeric\",\n",
    "    itemCol=\"asin_numeric\",\n",
    "    ratingCol=\"rating\",\n",
    "    coldStartStrategy=\"drop\"\n",
    ")\n",
    "als_model = als.fit(training_data)\n",
    "\n",
    "# Generate Recommendations\n",
    "recommendations = als_model.recommendForAllUsers(10)\n",
    "recommendations.show(5)\n"
   ]
  },
  {
   "cell_type": "code",
   "execution_count": 0,
   "metadata": {
    "application/vnd.databricks.v1+cell": {
     "cellMetadata": {
      "byteLimit": 2048000,
      "rowLimit": 10000
     },
     "inputWidgets": {},
     "nuid": "e4da2d5d-4e31-4cde-b777-69653596144b",
     "showTitle": false,
     "tableResultSettingsMap": {},
     "title": ""
    }
   },
   "outputs": [
    {
     "output_type": "stream",
     "name": "stdout",
     "output_type": "stream",
     "text": [
      "+---------------+--------------------+\n|user_id_numeric|     recommendations|\n+---------------+--------------------+\n|             26|[{48169, 6.348346...|\n|             27|[{20991, 6.522863...|\n|             28|[{12755, 5.985104...|\n|             31|[{25385, 6.845991...|\n|             34|[{48583, 6.249381...|\n+---------------+--------------------+\nonly showing top 5 rows\n\n"
     ]
    }
   ],
   "source": [
    "# Show recommendations\n",
    "recommendations.select(\"user_id_numeric\", \"recommendations\").show(5)\n"
   ]
  },
  {
   "cell_type": "code",
   "execution_count": 0,
   "metadata": {
    "application/vnd.databricks.v1+cell": {
     "cellMetadata": {
      "byteLimit": 2048000,
      "rowLimit": 10000
     },
     "inputWidgets": {},
     "nuid": "74e2d407-6a6a-4a29-8c4b-0937996d1a8a",
     "showTitle": false,
     "tableResultSettingsMap": {},
     "title": ""
    }
   },
   "outputs": [
    {
     "output_type": "display_data",
     "data": {
      "text/html": [
       "<style scoped>\n",
       "  .table-result-container {\n",
       "    max-height: 300px;\n",
       "    overflow: auto;\n",
       "  }\n",
       "  table, th, td {\n",
       "    border: 1px solid black;\n",
       "    border-collapse: collapse;\n",
       "  }\n",
       "  th, td {\n",
       "    padding: 5px;\n",
       "  }\n",
       "  th {\n",
       "    text-align: left;\n",
       "  }\n",
       "</style><div class='table-result-container'><table class='table-result'><thead style='background-color: white'><tr><th>polarity</th><th>count</th></tr></thead><tbody><tr><td>1</td><td>453938</td></tr><tr><td>0</td><td>134682</td></tr></tbody></table></div>"
      ]
     },
     "metadata": {
      "application/vnd.databricks.v1+output": {
       "addedWidgets": {},
       "aggData": [],
       "aggError": "",
       "aggOverflow": false,
       "aggSchema": [],
       "aggSeriesLimitReached": false,
       "aggType": "",
       "arguments": {},
       "columnCustomDisplayInfos": {},
       "data": [
        [
         1,
         453938
        ],
        [
         0,
         134682
        ]
       ],
       "datasetInfos": [],
       "dbfsResultPath": null,
       "isJsonSchema": true,
       "metadata": {},
       "overflow": false,
       "plotOptions": {
        "customPlotOptions": {},
        "displayType": "table",
        "pivotAggregation": null,
        "pivotColumns": null,
        "xColumns": null,
        "yColumns": null
       },
       "removedWidgets": [],
       "schema": [
        {
         "metadata": "{}",
         "name": "polarity",
         "type": "\"integer\""
        },
        {
         "metadata": "{}",
         "name": "count",
         "type": "\"long\""
        }
       ],
       "type": "table"
      }
     },
     "output_type": "display_data"
    },
    {
     "output_type": "display_data",
     "data": {
      "text/plain": [
       "Databricks visualization. Run in Databricks to view."
      ]
     },
     "metadata": {
      "application/vnd.databricks.v1.subcommand+json": {
       "baseErrorDetails": null,
       "bindings": {},
       "collapsed": false,
       "command": "%python\n__backend_agg_display_orig = display\n__backend_agg_dfs = []\ndef __backend_agg_display_new(df):\n    __backend_agg_df_modules = [\"pandas.core.frame\", \"databricks.koalas.frame\", \"pyspark.sql.dataframe\", \"pyspark.pandas.frame\", \"pyspark.sql.connect.dataframe\"]\n    if (type(df).__module__ in __backend_agg_df_modules and type(df).__name__ == 'DataFrame') or isinstance(df, list):\n        __backend_agg_dfs.append(df)\n\ndisplay = __backend_agg_display_new\n\ndef __backend_agg_user_code_fn():\n    import base64\n    exec(base64.standard_b64decode(\"IyBTZW50aW1lbnQgRGlzdHJpYnV0aW9uIFZpc3VhbGl6YXRpb24KIyBTZW50aW1lbnQgZGlzdHJpYnV0aW9uCnNlbnRpbWVudF9kaXN0ID0gdGZpZGZfZGF0YS5ncm91cEJ5KCJwb2xhcml0eSIpLmNvdW50KCkKCiMgRGlzcGxheSBiYXIgY2hhcnQKZGlzcGxheShzZW50aW1lbnRfZGlzdCkK\").decode())\n\ntry:\n    # run user code\n    __backend_agg_user_code_fn()\n\n    #reset display function\n    display = __backend_agg_display_orig\n\n    if len(__backend_agg_dfs) > 0:\n        # create a temp view\n        if type(__backend_agg_dfs[0]).__module__ == \"databricks.koalas.frame\":\n            # koalas dataframe\n            __backend_agg_dfs[0].to_spark().createOrReplaceTempView(\"DatabricksView2c40968\")\n        elif type(__backend_agg_dfs[0]).__module__ == \"pandas.core.frame\" or isinstance(__backend_agg_dfs[0], list):\n            # pandas dataframe\n            spark.createDataFrame(__backend_agg_dfs[0]).createOrReplaceTempView(\"DatabricksView2c40968\")\n        else:\n            __backend_agg_dfs[0].createOrReplaceTempView(\"DatabricksView2c40968\")\n        #run backend agg\n        display(spark.sql(\"\"\"WITH q AS (select * from DatabricksView2c40968) SELECT `polarity`,`count` FROM q\"\"\"))\n    else:\n        displayHTML(\"dataframe no longer exists. If you're using dataframe.display(), use display(dataframe) instead.\")\n\n\nfinally:\n    spark.sql(\"drop view if exists DatabricksView2c40968\")\n    display = __backend_agg_display_orig\n    del __backend_agg_display_new\n    del __backend_agg_display_orig\n    del __backend_agg_dfs\n    del __backend_agg_user_code_fn\n\n",
       "commandTitle": "Visualization 1",
       "commandType": "auto",
       "commandVersion": 0,
       "commentThread": [],
       "commentsVisible": false,
       "contentSha256Hex": null,
       "customPlotOptions": {
        "redashChart": [
         {
          "key": "type",
          "value": "CHART"
         },
         {
          "key": "options",
          "value": {
           "alignYAxesAtZero": true,
           "coefficient": 1,
           "columnConfigurationMap": {
            "x": {
             "column": "polarity",
             "id": "column_1d88ca613"
            },
            "y": [
             {
              "column": "count",
              "id": "column_1d88ca614",
              "transform": "SUM"
             }
            ]
           },
           "dateTimeFormat": "DD/MM/YYYY HH:mm",
           "direction": {
            "type": "counterclockwise"
           },
           "error_y": {
            "type": "data",
            "visible": true
           },
           "globalSeriesType": "pie",
           "isAggregationOn": true,
           "legend": {
            "traceorder": "normal"
           },
           "missingValuesAsZero": true,
           "numberFormat": "0,0.[00000]",
           "percentFormat": "0[.]00%",
           "series": {
            "error_y": {
             "type": "data",
             "visible": true
            },
            "stacking": null
           },
           "seriesOptions": {
            "column_1d88ca614": {
             "color": "#99DDB4",
             "name": "count",
             "type": "pie",
             "yAxis": 0
            }
           },
           "showDataLabels": true,
           "sizemode": "diameter",
           "sortX": true,
           "sortY": true,
           "swappedAxes": false,
           "textFormat": "",
           "useAggregationsUi": true,
           "valuesOptions": {},
           "version": 2,
           "xAxis": {
            "labels": {
             "enabled": true
            },
            "type": "-"
           },
           "yAxis": [
            {
             "type": "-"
            },
            {
             "opposite": true,
             "type": "-"
            }
           ]
          }
         }
        ]
       },
       "datasetPreviewNameToCmdIdMap": {},
       "diffDeletes": [],
       "diffInserts": [],
       "displayType": "redashChart",
       "error": null,
       "errorDetails": null,
       "errorSummary": null,
       "errorTraceType": null,
       "finishTime": 0,
       "globalVars": {},
       "guid": "",
       "height": "auto",
       "hideCommandCode": false,
       "hideCommandResult": false,
       "iPythonMetadata": null,
       "inputWidgets": {},
       "isLockedInExamMode": false,
       "latestUser": "a user",
       "latestUserId": null,
       "listResultMetadata": null,
       "metadata": {},
       "nuid": "235cf716-c2d8-4a23-aab8-d800b682535f",
       "origId": 0,
       "parentHierarchy": [],
       "pivotAggregation": null,
       "pivotColumns": null,
       "position": 14.0,
       "resultDbfsErrorMessage": null,
       "resultDbfsStatus": "INLINED_IN_TREE",
       "results": null,
       "showCommandTitle": false,
       "startTime": 0,
       "state": "input",
       "streamStates": {},
       "subcommandOptions": {
        "queryPlan": {
         "groups": [
          {
           "column": "polarity",
           "type": "column"
          }
         ],
         "selects": [
          {
           "column": "polarity",
           "type": "column"
          },
          {
           "alias": "column_1d88ca614",
           "args": [
            {
             "column": "count",
             "type": "column"
            }
           ],
           "function": "SUM",
           "type": "function"
          }
         ]
        }
       },
       "submitTime": 0,
       "subtype": "tableResultSubCmd.visualization",
       "tableResultIndex": 0,
       "tableResultSettingsMap": {},
       "useConsistentColors": false,
       "version": "CommandV1",
       "width": "auto",
       "workflows": [],
       "xColumns": null,
       "yColumns": null
      }
     },
     "output_type": "display_data"
    }
   ],
   "source": [
    "# Sentiment Distribution Visualization\n",
    "# Sentiment distribution\n",
    "sentiment_dist = tfidf_data.groupBy(\"polarity\").count()\n",
    "\n",
    "# Display bar chart\n",
    "display(sentiment_dist)\n"
   ]
  },
  {
   "cell_type": "code",
   "execution_count": 0,
   "metadata": {
    "application/vnd.databricks.v1+cell": {
     "cellMetadata": {
      "byteLimit": 2048000,
      "rowLimit": 10000
     },
     "inputWidgets": {},
     "nuid": "3974367d-442a-4caa-8e07-52dbd4b19249",
     "showTitle": false,
     "tableResultSettingsMap": {},
     "title": ""
    }
   },
   "outputs": [
    {
     "output_type": "display_data",
     "data": {
      "text/html": [
       "<style scoped>\n",
       "  .table-result-container {\n",
       "    max-height: 300px;\n",
       "    overflow: auto;\n",
       "  }\n",
       "  table, th, td {\n",
       "    border: 1px solid black;\n",
       "    border-collapse: collapse;\n",
       "  }\n",
       "  th, td {\n",
       "    padding: 5px;\n",
       "  }\n",
       "  th {\n",
       "    text-align: left;\n",
       "  }\n",
       "</style><div class='table-result-container'><table class='table-result'><thead style='background-color: white'><tr><th>user_id_numeric</th><th>asin_numeric</th><th>rating</th></tr></thead><tbody><tr><td>26</td><td>48169</td><td>6.3483467</td></tr><tr><td>26</td><td>9509</td><td>6.2361403</td></tr><tr><td>26</td><td>41746</td><td>6.14402</td></tr><tr><td>26</td><td>43193</td><td>6.1281834</td></tr><tr><td>26</td><td>18124</td><td>6.1212263</td></tr><tr><td>26</td><td>63443</td><td>6.0537176</td></tr><tr><td>26</td><td>38424</td><td>6.0535426</td></tr><tr><td>26</td><td>19856</td><td>6.0508385</td></tr><tr><td>26</td><td>46705</td><td>6.0428867</td></tr><tr><td>26</td><td>23071</td><td>6.040094</td></tr><tr><td>27</td><td>20991</td><td>6.5228634</td></tr><tr><td>27</td><td>17004</td><td>6.3427315</td></tr><tr><td>27</td><td>32315</td><td>6.2106085</td></tr><tr><td>27</td><td>34448</td><td>6.1609893</td></tr><tr><td>27</td><td>8435</td><td>6.1176476</td></tr><tr><td>27</td><td>19928</td><td>6.0852113</td></tr><tr><td>27</td><td>42266</td><td>6.0684824</td></tr><tr><td>27</td><td>22827</td><td>6.055248</td></tr><tr><td>27</td><td>25195</td><td>6.0479574</td></tr><tr><td>27</td><td>82616</td><td>6.0255775</td></tr><tr><td>28</td><td>12755</td><td>5.985104</td></tr><tr><td>28</td><td>25577</td><td>5.979017</td></tr><tr><td>28</td><td>30035</td><td>5.9076395</td></tr><tr><td>28</td><td>4828</td><td>5.7573647</td></tr><tr><td>28</td><td>91014</td><td>5.707909</td></tr></tbody></table></div>"
      ]
     },
     "metadata": {
      "application/vnd.databricks.v1+output": {
       "addedWidgets": {},
       "aggData": [],
       "aggError": "",
       "aggOverflow": false,
       "aggSchema": [],
       "aggSeriesLimitReached": false,
       "aggType": "",
       "arguments": {},
       "columnCustomDisplayInfos": {},
       "data": [
        [
         26,
         48169,
         6.3483467
        ],
        [
         26,
         9509,
         6.2361403
        ],
        [
         26,
         41746,
         6.14402
        ],
        [
         26,
         43193,
         6.1281834
        ],
        [
         26,
         18124,
         6.1212263
        ],
        [
         26,
         63443,
         6.0537176
        ],
        [
         26,
         38424,
         6.0535426
        ],
        [
         26,
         19856,
         6.0508385
        ],
        [
         26,
         46705,
         6.0428867
        ],
        [
         26,
         23071,
         6.040094
        ],
        [
         27,
         20991,
         6.5228634
        ],
        [
         27,
         17004,
         6.3427315
        ],
        [
         27,
         32315,
         6.2106085
        ],
        [
         27,
         34448,
         6.1609893
        ],
        [
         27,
         8435,
         6.1176476
        ],
        [
         27,
         19928,
         6.0852113
        ],
        [
         27,
         42266,
         6.0684824
        ],
        [
         27,
         22827,
         6.055248
        ],
        [
         27,
         25195,
         6.0479574
        ],
        [
         27,
         82616,
         6.0255775
        ],
        [
         28,
         12755,
         5.985104
        ],
        [
         28,
         25577,
         5.979017
        ],
        [
         28,
         30035,
         5.9076395
        ],
        [
         28,
         4828,
         5.7573647
        ],
        [
         28,
         91014,
         5.707909
        ]
       ],
       "datasetInfos": [],
       "dbfsResultPath": null,
       "isJsonSchema": true,
       "metadata": {},
       "overflow": false,
       "plotOptions": {
        "customPlotOptions": {},
        "displayType": "table",
        "pivotAggregation": null,
        "pivotColumns": null,
        "xColumns": null,
        "yColumns": null
       },
       "removedWidgets": [],
       "schema": [
        {
         "metadata": "{}",
         "name": "user_id_numeric",
         "type": "\"integer\""
        },
        {
         "metadata": "{}",
         "name": "asin_numeric",
         "type": "\"integer\""
        },
        {
         "metadata": "{}",
         "name": "rating",
         "type": "\"float\""
        }
       ],
       "type": "table"
      }
     },
     "output_type": "display_data"
    },
    {
     "output_type": "display_data",
     "data": {
      "text/plain": [
       "Databricks visualization. Run in Databricks to view."
      ]
     },
     "metadata": {
      "application/vnd.databricks.v1.subcommand+json": {
       "baseErrorDetails": null,
       "bindings": {},
       "collapsed": false,
       "command": "%python\n__backend_agg_display_orig = display\n__backend_agg_dfs = []\ndef __backend_agg_display_new(df):\n    __backend_agg_df_modules = [\"pandas.core.frame\", \"databricks.koalas.frame\", \"pyspark.sql.dataframe\", \"pyspark.pandas.frame\", \"pyspark.sql.connect.dataframe\"]\n    if (type(df).__module__ in __backend_agg_df_modules and type(df).__name__ == 'DataFrame') or isinstance(df, list):\n        __backend_agg_dfs.append(df)\n\ndisplay = __backend_agg_display_new\n\ndef __backend_agg_user_code_fn():\n    import base64\n    exec(base64.standard_b64decode(\"ZnJvbSBweXNwYXJrLnNxbC5mdW5jdGlvbnMgaW1wb3J0IGV4cGxvZGUKCiMgRmxhdHRlbiByZWNvbW1lbmRhdGlvbnMKcmVjb21tZW5kYXRpb25zX2V4cGxvZGVkID0gcmVjb21tZW5kYXRpb25zLndpdGhDb2x1bW4oInJlY29tbWVuZGF0aW9uIiwgZXhwbG9kZSgicmVjb21tZW5kYXRpb25zIikpCnJlY29tbWVuZGF0aW9uc19mbGF0dGVuZWQgPSByZWNvbW1lbmRhdGlvbnNfZXhwbG9kZWQuc2VsZWN0KAogICAgInVzZXJfaWRfbnVtZXJpYyIsIAogICAgInJlY29tbWVuZGF0aW9uLmFzaW5fbnVtZXJpYyIsICAjIFJlcGxhY2UgIml0ZW0iIHdpdGggdGhlIGNvcnJlY3QgZmllbGQKICAgICJyZWNvbW1lbmRhdGlvbi5yYXRpbmciCikKCiMgU2hvdyB0aGUgdG9wIDUgcmVjb21tZW5kYXRpb25zIGZvciB0aGUgZmlyc3QgNSB1c2VycwpkaXNwbGF5KHJlY29tbWVuZGF0aW9uc19mbGF0dGVuZWQubGltaXQoMjUpKQo=\").decode())\n\ntry:\n    # run user code\n    __backend_agg_user_code_fn()\n\n    #reset display function\n    display = __backend_agg_display_orig\n\n    if len(__backend_agg_dfs) > 0:\n        # create a temp view\n        if type(__backend_agg_dfs[0]).__module__ == \"databricks.koalas.frame\":\n            # koalas dataframe\n            __backend_agg_dfs[0].to_spark().createOrReplaceTempView(\"DatabricksView94b101e\")\n        elif type(__backend_agg_dfs[0]).__module__ == \"pandas.core.frame\" or isinstance(__backend_agg_dfs[0], list):\n            # pandas dataframe\n            spark.createDataFrame(__backend_agg_dfs[0]).createOrReplaceTempView(\"DatabricksView94b101e\")\n        else:\n            __backend_agg_dfs[0].createOrReplaceTempView(\"DatabricksView94b101e\")\n        #run backend agg\n        display(spark.sql(\"\"\"WITH q AS (select * from DatabricksView94b101e) SELECT `user_id_numeric`,COUNT(`rating`) `column_1d88ca618` FROM q GROUP BY `user_id_numeric`\"\"\"))\n    else:\n        displayHTML(\"dataframe no longer exists. If you're using dataframe.display(), use display(dataframe) instead.\")\n\n\nfinally:\n    spark.sql(\"drop view if exists DatabricksView94b101e\")\n    display = __backend_agg_display_orig\n    del __backend_agg_display_new\n    del __backend_agg_display_orig\n    del __backend_agg_dfs\n    del __backend_agg_user_code_fn\n\n",
       "commandTitle": "Visualization 1",
       "commandType": "auto",
       "commandVersion": 0,
       "commentThread": [],
       "commentsVisible": false,
       "contentSha256Hex": null,
       "customPlotOptions": {
        "redashChart": [
         {
          "key": "type",
          "value": "CHART"
         },
         {
          "key": "options",
          "value": {
           "alignYAxesAtZero": true,
           "coefficient": 1,
           "columnConfigurationMap": {
            "x": {
             "column": "user_id_numeric",
             "id": "column_1d88ca6110"
            },
            "y": [
             {
              "column": "rating",
              "id": "column_1d88ca618",
              "transform": "COUNT"
             }
            ]
           },
           "dateTimeFormat": "DD/MM/YYYY HH:mm",
           "direction": {
            "type": "counterclockwise"
           },
           "error_y": {
            "type": "data",
            "visible": true
           },
           "globalSeriesType": "column",
           "isAggregationOn": true,
           "legend": {
            "traceorder": "normal"
           },
           "missingValuesAsZero": true,
           "numberFormat": "0,0.[00000]",
           "percentFormat": "0[.]00%",
           "series": {
            "error_y": {
             "type": "data",
             "visible": true
            },
            "stacking": null
           },
           "seriesOptions": {
            "column_1d88ca618": {
             "type": "column",
             "yAxis": 0
            }
           },
           "showDataLabels": false,
           "sizemode": "diameter",
           "sortX": true,
           "sortY": true,
           "swappedAxes": false,
           "textFormat": "",
           "useAggregationsUi": true,
           "valuesOptions": {},
           "version": 2,
           "xAxis": {
            "labels": {
             "enabled": true
            },
            "title": {
             "text": null
            },
            "type": "-"
           },
           "yAxis": [
            {
             "type": "-"
            },
            {
             "opposite": true,
             "type": "-"
            }
           ]
          }
         }
        ]
       },
       "datasetPreviewNameToCmdIdMap": {},
       "diffDeletes": [],
       "diffInserts": [],
       "displayType": "redashChart",
       "error": null,
       "errorDetails": null,
       "errorSummary": null,
       "errorTraceType": null,
       "finishTime": 0,
       "globalVars": {},
       "guid": "",
       "height": "auto",
       "hideCommandCode": false,
       "hideCommandResult": false,
       "iPythonMetadata": null,
       "inputWidgets": {},
       "isLockedInExamMode": false,
       "latestUser": "a user",
       "latestUserId": null,
       "listResultMetadata": null,
       "metadata": {},
       "nuid": "de8e199c-73c3-41f6-8409-7823a1288077",
       "origId": 0,
       "parentHierarchy": [],
       "pivotAggregation": null,
       "pivotColumns": null,
       "position": 15.0,
       "resultDbfsErrorMessage": null,
       "resultDbfsStatus": "INLINED_IN_TREE",
       "results": null,
       "showCommandTitle": false,
       "startTime": 0,
       "state": "input",
       "streamStates": {},
       "subcommandOptions": {
        "queryPlan": {
         "groups": [
          {
           "column": "user_id_numeric",
           "type": "column"
          }
         ],
         "selects": [
          {
           "column": "user_id_numeric",
           "type": "column"
          },
          {
           "alias": "column_1d88ca618",
           "args": [
            {
             "column": "rating",
             "type": "column"
            }
           ],
           "function": "COUNT",
           "type": "function"
          }
         ]
        }
       },
       "submitTime": 0,
       "subtype": "tableResultSubCmd.visualization",
       "tableResultIndex": 0,
       "tableResultSettingsMap": {},
       "useConsistentColors": false,
       "version": "CommandV1",
       "width": "auto",
       "workflows": [],
       "xColumns": null,
       "yColumns": null
      }
     },
     "output_type": "display_data"
    }
   ],
   "source": [
    "from pyspark.sql.functions import explode\n",
    "\n",
    "# Flatten recommendations\n",
    "recommendations_exploded = recommendations.withColumn(\"recommendation\", explode(\"recommendations\"))\n",
    "recommendations_flattened = recommendations_exploded.select(\n",
    "    \"user_id_numeric\", \n",
    "    \"recommendation.asin_numeric\",  # Replace \"item\" with the correct field\n",
    "    \"recommendation.rating\"\n",
    ")\n",
    "\n",
    "# Show the top 5 recommendations for the first 5 users\n",
    "display(recommendations_flattened.limit(25))\n"
   ]
  }
 ],
 "metadata": {
  "application/vnd.databricks.v1+notebook": {
   "dashboards": [],
   "environmentMetadata": {
    "base_environment": "",
    "client": "1"
   },
   "language": "python",
   "notebookMetadata": {
    "pythonIndentUnit": 2
   },
   "notebookName": "AmazonReviewAnalysis",
   "widgets": {}
  },
  "language_info": {
   "name": "python"
  }
 },
 "nbformat": 4,
 "nbformat_minor": 0
}
